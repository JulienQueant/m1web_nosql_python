{
 "cells": [
  {
   "cell_type": "code",
   "execution_count": 90,
   "metadata": {},
   "outputs": [],
   "source": [
    "class DateNaissance:\n",
    "\n",
    "    def __init__(self, jour, mois, annee):\n",
    "        self.jour = jour\n",
    "        self.mois = mois\n",
    "        self.annee = annee\n",
    "\n",
    "    def ToString(self):\n",
    "        return '%02d / %02d / %d' %(self.jour, self.mois, self.annee)"
   ]
  },
  {
   "cell_type": "code",
   "execution_count": 91,
   "metadata": {},
   "outputs": [],
   "source": [
    "class Personne:\n",
    "\n",
    "    def __init__(self, nom, prenom, naissance):\n",
    "        self.nom = nom\n",
    "        self.prenom = prenom\n",
    "        self.naissance = naissance\n",
    "\n",
    "    def affiche(self):\n",
    "        print('Nom: ', self.nom, '\\nPrénom: ', self.prenom, '\\nDate de naissance: ', self.naissance.ToString())"
   ]
  },
  {
   "cell_type": "code",
   "execution_count": 92,
   "metadata": {},
   "outputs": [],
   "source": [
    "class Employe(Personne):\n",
    "\n",
    "    def __init__(self, nom, prenom, naissance, salaire):\n",
    "        Personne.__init__(self, nom, prenom, naissance)\n",
    "        self.salaire = salaire\n",
    "\n",
    "    def affiche(self):\n",
    "        Personne.affiche(self)\n",
    "        print('Salaire: ', round(self.salaire, 2))"
   ]
  },
  {
   "cell_type": "code",
   "execution_count": 93,
   "metadata": {},
   "outputs": [],
   "source": [
    "class Chef(Employe):\n",
    "\n",
    "    def __init__(self, nom, prenom, naissance, salaire, service):\n",
    "        Employe.__init__(self, nom, prenom, naissance, salaire)\n",
    "        self.service = service\n",
    "\n",
    "    def affiche(self):\n",
    "        Employe.affiche(self)\n",
    "        print('Service: ', self.service)"
   ]
  },
  {
   "cell_type": "code",
   "execution_count": 94,
   "metadata": {},
   "outputs": [
    {
     "output_type": "stream",
     "name": "stdout",
     "text": "Nom:  Ilyass \nPrénom:  Math \nDate de naissance:  01 / 07 / 1982\nNom:  Ilyass \nPrénom:  Math \nDate de naissance:  01 / 07 / 1985\nSalaire:  7865.55\nNom:  Ilyass \nPrénom:  Math \nDate de naissance:  01 / 07 / 1988\nSalaire:  7865.55\nService:  Ressource humaine\n"
    }
   ],
   "source": [
    "P = Personne('Ilyass', 'Math', DateNaissance(1, 7, 1982))\n",
    "P.affiche()\n",
    "E = Employe('Ilyass', 'Math', DateNaissance(1, 7, 1985), 7865.548)\n",
    "E.affiche()\n",
    "C = Chef('Ilyass', 'Math', DateNaissance(1, 7, 1988), 7865.548, 'Ressource humaine')\n",
    "C.affiche()"
   ]
  }
 ],
 "metadata": {
  "language_info": {
   "codemirror_mode": {
    "name": "ipython",
    "version": 3
   },
   "file_extension": ".py",
   "mimetype": "text/x-python",
   "name": "python",
   "nbconvert_exporter": "python",
   "pygments_lexer": "ipython3",
   "version": "3.7.2-final"
  },
  "orig_nbformat": 2,
  "kernelspec": {
   "name": "python37232bit0c405f96ca114506a03d9d0e22329310",
   "display_name": "Python 3.7.2 32-bit"
  }
 },
 "nbformat": 4,
 "nbformat_minor": 2
}