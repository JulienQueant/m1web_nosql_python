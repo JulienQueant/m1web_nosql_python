{
 "cells": [
  {
   "cell_type": "code",
   "execution_count": 136,
   "metadata": {},
   "outputs": [],
   "source": [
    "class Courrier:\n",
    "\n",
    "    def __init__(self, adr_dest, adr_exped, poids, mode):\n",
    "        self.adr_dest = adr_dest\n",
    "        self.adr_exped = adr_exped\n",
    "        self.poids = poids\n",
    "        self.mode = mode\n",
    "\n",
    "    def ToString(self):\n",
    "        print('Adresse destination: ', self.adr_dest, '\\nAdresse expedition: ', self.adr_exped, '\\nPoids: ', self.poids, 'grammes', '\\nMode: ', self.mode)"
   ]
  },
  {
   "cell_type": "code",
   "execution_count": 137,
   "metadata": {},
   "outputs": [],
   "source": [
    "class Lettre(Courrier):\n",
    "\n",
    "    def __init__(self, adr_dest, adr_exped, poids, mode, format):\n",
    "        Courrier.__init__(self, adr_dest, adr_exped, poids, mode)\n",
    "        self.format = format\n",
    "\n",
    "    def calculTimbre(self):\n",
    "        if self.format == 'A4': tarif = 2.50\n",
    "        if self.format == 'A3': tarif = 3.50\n",
    "        montant = tarif * self.poids / 1000\n",
    "        if self.mode == 'Express': montant * 2\n",
    "        return montant\n",
    "\n",
    "    def ToString(self):\n",
    "        print('Lettre:')\n",
    "        Courrier.ToString(self)\n",
    "        print('Format: ', self.format, '\\nPrix du timbre: ', self.calculTimbre())"
   ]
  },
  {
   "cell_type": "code",
   "execution_count": 138,
   "metadata": {},
   "outputs": [],
   "source": [
    "class Colis(Courrier):\n",
    "\n",
    "    def __init__(self, adr_dest, adr_exped, poids, mode, volume):\n",
    "        Courrier.__init__(self, adr_dest, adr_exped, poids, mode)\n",
    "        self.volume = volume\n",
    "\n",
    "    def calculTimbre(self):\n",
    "        montant = 0.25 * self.volume * self.poids / 1000\n",
    "        if self.mode == 'Express': montant = montant * 2\n",
    "        return montant\n",
    "\n",
    "    def ToString(self):\n",
    "        print('Colis:')\n",
    "        Courrier.ToString(self)\n",
    "        print('Volume: ', self.volume, 'litres', '\\nPrix du timbre: ', self.calculTimbre())"
   ]
  },
  {
   "cell_type": "code",
   "execution_count": 139,
   "metadata": {},
   "outputs": [
    {
     "output_type": "stream",
     "name": "stdout",
     "text": "Lettre:\nAdresse destination:  Lille \nAdresse expedition:  Paris \nPoids:  80 grammes \nMode:  Normal\nFormat:  A4 \nPrix du timbre:  0.2\n"
    }
   ],
   "source": [
    "L1 = Lettre('Lille', 'Paris', 80, 'Normal', 'A4')\n",
    "L1.ToString()"
   ]
  },
  {
   "cell_type": "code",
   "execution_count": 140,
   "metadata": {},
   "outputs": [
    {
     "output_type": "stream",
     "name": "stdout",
     "text": "Colis:\nAdresse destination:  Marrakech \nAdresse expedition:  Barcelone \nPoids:  3500 grammes \nMode:  Express\nVolume:  2.25 litres \nPrix du timbre:  3.9375\n"
    }
   ],
   "source": [
    "C1 = Colis('Marrakech', 'Barcelone', 3500, 'Express', 2.25)\n",
    "C1.ToString()"
   ]
  }
 ],
 "metadata": {
  "language_info": {
   "codemirror_mode": {
    "name": "ipython",
    "version": 3
   },
   "file_extension": ".py",
   "mimetype": "text/x-python",
   "name": "python",
   "nbconvert_exporter": "python",
   "pygments_lexer": "ipython3",
   "version": "3.7.2-final"
  },
  "orig_nbformat": 2,
  "kernelspec": {
   "name": "python37232bit0c405f96ca114506a03d9d0e22329310",
   "display_name": "Python 3.7.2 32-bit"
  }
 },
 "nbformat": 4,
 "nbformat_minor": 2
}